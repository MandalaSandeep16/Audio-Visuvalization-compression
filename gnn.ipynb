{
  "nbformat": 4,
  "nbformat_minor": 0,
  "metadata": {
    "colab": {
      "provenance": [],
      "mount_file_id": "10Op8mdFVaH0zzVELzMom9ekm3MmZmLtU",
      "authorship_tag": "ABX9TyNr7ABchLiDQYvkGjaWQ3Y3",
      "include_colab_link": true
    },
    "kernelspec": {
      "name": "python3",
      "display_name": "Python 3"
    },
    "language_info": {
      "name": "python"
    }
  },
  "cells": [
    {
      "cell_type": "markdown",
      "metadata": {
        "id": "view-in-github",
        "colab_type": "text"
      },
      "source": [
        "<a href=\"https://colab.research.google.com/github/MandalaSandeep16/Audio-Visuvalization-compression/blob/main/gnn.ipynb\" target=\"_parent\"><img src=\"https://colab.research.google.com/assets/colab-badge.svg\" alt=\"Open In Colab\"/></a>"
      ]
    },
    {
      "cell_type": "code",
      "execution_count": null,
      "metadata": {
        "id": "dvu8tOIxkXz3"
      },
      "outputs": [],
      "source": [
        "import tensorflow as tf"
      ]
    },
    {
      "cell_type": "code",
      "source": [
        "import numpy as np\n",
        "import pandas as pd\n",
        "from sklearn.model_selection import train_test_split\n",
        "import matplotlib.pyplot as plt\n",
        "from sklearn.metrics import mean_squared_error\n",
        "#Load the datset\n",
        "dataset=pd.read_csv('/content/drive/MyDrive/SO2_MODIFIED.csv')\n",
        "\n",
        "#selectt the column 'v for the prediction\n",
        "selected_col= '29209010'"
      ],
      "metadata": {
        "id": "7Tu5tD5GufXr"
      },
      "execution_count": null,
      "outputs": []
    },
    {
      "cell_type": "code",
      "source": [
        "#Spliting the data\n",
        "train_data, test_data = train_test_split(dataset[selected_col], test_size=0.2, shuffle=False)\n",
        "#define the forcasting horiz\n",
        "forecast_horizon = 24"
      ],
      "metadata": {
        "id": "c8WHfqD0u1Y2"
      },
      "execution_count": null,
      "outputs": []
    },
    {
      "cell_type": "code",
      "source": [
        "\n",
        "# Normalize the training data\n",
        "train_mean = train_data.mean()\n",
        "train_std = train_data.std()\n",
        "train_data_normalized = (train_data - train_mean) / train_std"
      ],
      "metadata": {
        "id": "tQ9MYP8yw0PT"
      },
      "execution_count": null,
      "outputs": []
    },
    {
      "cell_type": "code",
      "source": [
        "\n",
        "# Normalize the test data using the same mean and std from training data\n",
        "test_data_normalized = (test_data - train_mean) / train_std\n"
      ],
      "metadata": {
        "id": "roDCIA0zxBRZ"
      },
      "execution_count": null,
      "outputs": []
    },
    {
      "cell_type": "code",
      "source": [
        "# create a dataset function\n",
        "def create_dataset(data, forecast_horizon):\n",
        "  X, y = [], []\n",
        "  for i in range(len(data)-forecast_horizon-1):\n",
        "    X.append(data[i:(i+forecast_horizon)])\n",
        "    # Ensure you are not going out of bounds\n",
        "    if i + forecast_horizon < len(data):\n",
        "        y.append(data[i+forecast_horizon])\n",
        "  return np.array(X), np.array(y)"
      ],
      "metadata": {
        "id": "wqx3Wqm0xR-p"
      },
      "execution_count": null,
      "outputs": []
    },
    {
      "cell_type": "code",
      "source": [
        "# Prepare the training and test data\n",
        "\n",
        "X_train, y_train = create_dataset(train_data.values, forecast_horizon)\n",
        "X_test, y_test = create_dataset(test_data.values, forecast_horizon)\n"
      ],
      "metadata": {
        "id": "5nJtMfYtxa2D"
      },
      "execution_count": null,
      "outputs": []
    },
    {
      "cell_type": "code",
      "source": [
        "\n",
        "# The test data is already prepared in the preceding code:\n",
        "X_test, y_test = create_dataset(test_data.values, forecast_horizon)\n"
      ],
      "metadata": {
        "id": "AP6l0uyqxood"
      },
      "execution_count": null,
      "outputs": []
    },
    {
      "cell_type": "code",
      "source": [
        "\n",
        "# Reshape the input data to fit the GNN model\n",
        "X_train_reshaped = X_train.reshape(X_train.shape[0], X_train.shape[1], 1)\n",
        "X_test_reshaped = X_test.reshape(X_test.shape[0], X_test.shape[1], 1)\n"
      ],
      "metadata": {
        "id": "I_Jf1IvSx0FU"
      },
      "execution_count": null,
      "outputs": []
    },
    {
      "cell_type": "code",
      "source": [
        "# The test data is already prepared in the preceding code:\n",
        "X_test, y_test = create_dataset(test_data.values, forecast_horizon)\n",
        "\n",
        "# Reshape the input data to fit the GNN model\n",
        "X_train_reshaped = X_train.reshape(X_train.shape[0], X_train.shape[1], 1)\n",
        "X_test_reshaped = X_test.reshape(X_test.shape[0], X_test.shape[1], 1)\n"
      ],
      "metadata": {
        "id": "qJtiy8V-x8tq"
      },
      "execution_count": null,
      "outputs": []
    },
    {
      "cell_type": "code",
      "source": [
        "# prompt: Define the GRAPH NEURAL NETWORKS MODELS\n",
        "\n",
        "from tensorflow.keras.models import Model\n",
        "from tensorflow.keras.layers import Input, Dense, GRU, Dropout, concatenate\n",
        "\n",
        "# Define the GNN model\n",
        "def create_gnn_model(input_shape):\n",
        "  input_layer = Input(shape=input_shape)\n",
        "\n",
        "  # GRU layer for temporal dependencies\n",
        "  gru_layer = GRU(64, return_sequences=True)(input_layer)\n",
        "  gru_layer = Dropout(0.2)(gru_layer)\n",
        "  gru_layer = GRU(32)(gru_layer)\n",
        "  gru_layer = Dropout(0.2)(gru_layer)\n",
        "\n",
        "  # Dense layer for feature extraction\n",
        "  dense_layer = Dense(32, activation='relu')(gru_layer)\n",
        "  dense_layer = Dropout(0.2)(dense_layer)\n",
        "\n",
        "  # Output layer\n",
        "  output_layer = Dense(1)(dense_layer)\n",
        "\n",
        "  model = Model(inputs=input_layer, outputs=output_layer)\n",
        "  return model\n",
        "\n",
        "# Create the GNN model\n",
        "gnn_model = create_gnn_model((X_train_reshaped.shape[1], 1))\n",
        "gnn_model.compile(optimizer='adam', loss='mean_squared_error')\n"
      ],
      "metadata": {
        "id": "GGUOmjdvx8xQ"
      },
      "execution_count": null,
      "outputs": []
    },
    {
      "cell_type": "code",
      "source": [
        "\n",
        "# Compile the GNN model\n",
        "gnn_model.compile(optimizer='adam', loss='mean_squared_error')\n"
      ],
      "metadata": {
        "id": "qx7JTCTHygUR"
      },
      "execution_count": null,
      "outputs": []
    },
    {
      "cell_type": "code",
      "source": [
        "# Train the GNN model\n",
        "gnn_history = gnn_model.fit(\n",
        "    X_train_reshaped, y_train,\n",
        "    epochs=15,\n",
        "    batch_size=32,\n",
        "    validation_data=(X_test_reshaped, y_test)\n",
        ")"
      ],
      "metadata": {
        "colab": {
          "base_uri": "https://localhost:8080/"
        },
        "id": "kA-EH7SYyx-f",
        "outputId": "9bd77b38-b5af-4b89-d890-92d5e90f288c"
      },
      "execution_count": null,
      "outputs": [
        {
          "output_type": "stream",
          "name": "stdout",
          "text": [
            "Epoch 1/15\n",
            "1278/1278 [==============================] - 32s 25ms/step - loss: 3.3438e-06 - val_loss: 2.6675e-06\n",
            "Epoch 2/15\n",
            "1278/1278 [==============================] - 32s 25ms/step - loss: 3.3312e-06 - val_loss: 1.8421e-06\n",
            "Epoch 3/15\n",
            "1278/1278 [==============================] - 34s 26ms/step - loss: 3.3176e-06 - val_loss: 2.4015e-06\n",
            "Epoch 4/15\n",
            "1278/1278 [==============================] - 33s 26ms/step - loss: 3.3131e-06 - val_loss: 1.8546e-06\n",
            "Epoch 5/15\n",
            "1278/1278 [==============================] - 33s 26ms/step - loss: 3.3371e-06 - val_loss: 2.5974e-06\n",
            "Epoch 6/15\n",
            "1278/1278 [==============================] - 32s 25ms/step - loss: 3.3095e-06 - val_loss: 3.7554e-06\n",
            "Epoch 7/15\n",
            "1278/1278 [==============================] - 33s 26ms/step - loss: 3.3440e-06 - val_loss: 3.2299e-06\n",
            "Epoch 8/15\n",
            "1278/1278 [==============================] - 33s 26ms/step - loss: 3.3060e-06 - val_loss: 1.8732e-06\n",
            "Epoch 9/15\n",
            "1278/1278 [==============================] - 32s 25ms/step - loss: 3.3479e-06 - val_loss: 2.1741e-06\n",
            "Epoch 10/15\n",
            "1278/1278 [==============================] - 32s 25ms/step - loss: 3.3328e-06 - val_loss: 2.3758e-06\n",
            "Epoch 11/15\n",
            "1278/1278 [==============================] - 33s 26ms/step - loss: 3.3432e-06 - val_loss: 3.6818e-06\n",
            "Epoch 12/15\n",
            "1278/1278 [==============================] - 33s 26ms/step - loss: 3.3250e-06 - val_loss: 1.6797e-06\n",
            "Epoch 13/15\n",
            "1278/1278 [==============================] - 32s 25ms/step - loss: 3.3213e-06 - val_loss: 1.3800e-06\n",
            "Epoch 14/15\n",
            "1278/1278 [==============================] - 33s 26ms/step - loss: 3.3260e-06 - val_loss: 2.4812e-06\n",
            "Epoch 15/15\n",
            "1278/1278 [==============================] - 35s 28ms/step - loss: 3.3444e-06 - val_loss: 1.7047e-06\n"
          ]
        }
      ]
    },
    {
      "cell_type": "code",
      "source": [
        "# Make predictions on the test data\n",
        "gnn_predictions = gnn_model.predict(X_test_reshaped)\n",
        "\n",
        "# Denormalize the predictions\n",
        "gnn_predictions_denormalized = (gnn_predictions * train_std) + train_mean\n"
      ],
      "metadata": {
        "colab": {
          "base_uri": "https://localhost:8080/"
        },
        "id": "hECtaTB-y0MG",
        "outputId": "bb61be5b-71d8-446a-93b7-cda95d20c709"
      },
      "execution_count": null,
      "outputs": [
        {
          "output_type": "stream",
          "name": "stdout",
          "text": [
            "319/319 [==============================] - 2s 6ms/step\n"
          ]
        }
      ]
    },
    {
      "cell_type": "code",
      "source": [
        "# Inverse transform the predictions to the original scale\n",
        "gnn_predictions_denormalized = (gnn_predictions * train_std) + train_mean\n"
      ],
      "metadata": {
        "id": "bpHXAFolzBhG"
      },
      "execution_count": null,
      "outputs": []
    },
    {
      "cell_type": "code",
      "source": [
        "# Evaluate the GNN model\n",
        "gnn_mse = mean_squared_error(y_test, gnn_predictions_denormalized)\n",
        "print('GNN MSE:', gnn_mse)\n"
      ],
      "metadata": {
        "colab": {
          "base_uri": "https://localhost:8080/"
        },
        "id": "Fv2kN3ygzJJo",
        "outputId": "d1b0ff64-a32a-404c-d633-191cd8d6e61c"
      },
      "execution_count": null,
      "outputs": [
        {
          "output_type": "stream",
          "name": "stdout",
          "text": [
            "GNN MSE: 2.2421977723858344e-06\n"
          ]
        }
      ]
    },
    {
      "cell_type": "code",
      "source": [
        "# prompt: Find the index of the first positive number in the test data\n",
        "\n",
        "# Find the index of the first positive number in the test data\n",
        "index_first_positive = next((i for i, num in enumerate(test_data) if num > 0), None)\n",
        "print(f\"Index of the first positive number in test data: {index_first_positive}\")\n"
      ],
      "metadata": {
        "colab": {
          "base_uri": "https://localhost:8080/"
        },
        "id": "s5XRqWHPzQBD",
        "outputId": "782fd023-af02-43f1-df83-0fb5194e3451"
      },
      "execution_count": null,
      "outputs": [
        {
          "output_type": "stream",
          "name": "stdout",
          "text": [
            "Index of the first positive number in test data: 0\n"
          ]
        }
      ]
    },
    {
      "cell_type": "code",
      "source": [
        "# Plot the actual vs predicted values for GNN\n",
        "plt.figure(figsize=(10, 6))\n",
        "plt.plot(y_test, label='Actual')\n",
        "plt.plot(gnn_predictions_denormalized, label='GNN Predictions')\n",
        "plt.legend()\n",
        "plt.title('GNN: Actual vs Predicted')\n",
        "plt.show()\n"
      ],
      "metadata": {
        "colab": {
          "base_uri": "https://localhost:8080/",
          "height": 545
        },
        "id": "X_t68BT7zWdF",
        "outputId": "519bbc3a-175f-42b8-ac9b-0e79c63b3363"
      },
      "execution_count": null,
      "outputs": [
        {
          "output_type": "display_data",
          "data": {
            "text/plain": [
              "<Figure size 1000x600 with 1 Axes>"
            ],
            "image/png": "[encoded data removed]"
          },
          "metadata": {}
        }
      ]
    }
  ]
}